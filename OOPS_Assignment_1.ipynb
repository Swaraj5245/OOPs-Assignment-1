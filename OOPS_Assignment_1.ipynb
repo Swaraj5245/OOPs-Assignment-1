{
 "cells": [
  {
   "cell_type": "markdown",
   "metadata": {},
   "source": [
    "### Q1. Explain Class and Object with respect to Object-Oriented Programming. Give a suitable example."
   ]
  },
  {
   "cell_type": "markdown",
   "metadata": {},
   "source": [
    "**class :**\n",
    "class is a blueprint or tamplate, it defines the attributes & methods \n",
    "\n",
    "**object :**\n",
    "object is a intance or variable of a class through which we can access class attributes and methods \n",
    "\n",
    "**Example :**"
   ]
  },
  {
   "cell_type": "code",
   "execution_count": 6,
   "metadata": {},
   "outputs": [
    {
     "data": {
      "text/plain": [
       "('name', 'age')"
      ]
     },
     "execution_count": 6,
     "metadata": {},
     "output_type": "execute_result"
    }
   ],
   "source": [
    "class base:\n",
    "    def __init__(self):\n",
    "        self.name=\"name\" \n",
    "        self.age=\"age\"\n",
    "        \n",
    "    def info(self):\n",
    "        return self.name, self.age\n",
    "    \n",
    "obj=base()\n",
    "obj.info()"
   ]
  },
  {
   "cell_type": "markdown",
   "metadata": {},
   "source": [
    "In the above example first we created a class **base** & then In that class we added a attribures and mathods(**info**) after that we created a class object **obj** through which we can access those attributes and methods"
   ]
  },
  {
   "cell_type": "markdown",
   "metadata": {},
   "source": [
    "### Q2. Name the four pillars of OOPs."
   ]
  },
  {
   "cell_type": "markdown",
   "metadata": {},
   "source": [
    "1. Polymorphism \n",
    "2. Encapsulation\n",
    "3. Inheritance\n",
    "4. Abstraction"
   ]
  },
  {
   "cell_type": "markdown",
   "metadata": {},
   "source": [
    "### Q3. Explain why the __init__() function is used. Give a suitable example."
   ]
  },
  {
   "cell_type": "markdown",
   "metadata": {},
   "source": [
    "init() function also called as **constructor**, it is used to take a input from the user when the class object is created\n",
    "\n",
    "*Example :*"
   ]
  },
  {
   "cell_type": "code",
   "execution_count": 12,
   "metadata": {},
   "outputs": [
    {
     "name": "stdout",
     "output_type": "stream",
     "text": [
      "Name :Raj Age : 20 Occupation : student\n"
     ]
    }
   ],
   "source": [
    "class base1:\n",
    "    #creating constructor i.e init function\n",
    "    def __init__(self,name,age,occupation):\n",
    "        self.name=name\n",
    "        self.age=age\n",
    "        self.occupation=occupation\n",
    "        \n",
    "    def info(self):\n",
    "        return f\"Name :{self.name} Age : {self.age} Occupation : {self.occupation}\"\n",
    "\n",
    "obj1=base1(\"Raj\",20,\"student\")\n",
    "print(obj1.info())"
   ]
  },
  {
   "cell_type": "markdown",
   "metadata": {},
   "source": [
    "In the above example first we created a class and in that we created a attributes and methods and then we created a class object then we accessed the one method  of the class i.e **info** throught its object"
   ]
  },
  {
   "cell_type": "markdown",
   "metadata": {},
   "source": [
    "### Q4. Why self is used in OOPs?"
   ]
  },
  {
   "cell_type": "markdown",
   "metadata": {},
   "source": [
    "In **OOPS** self is used to point the object and Attributes to the class  \n",
    "its not a keyword we can use anything for pointing to the class"
   ]
  },
  {
   "cell_type": "markdown",
   "metadata": {},
   "source": [
    "### Q5. What is inheritance? Give an example for each type of inheritance."
   ]
  },
  {
   "cell_type": "markdown",
   "metadata": {},
   "source": [
    "Inheritance is a core part of a OOPS programming, In this child class inherite attributes & methods of a parents class \n",
    "Their are 5 type of a Inheritance Python OOps.\n",
    "1. Single Inheritance : In this Child class Inherite attributes and methods only form one class.\n",
    "2. Multiple Inheritance : In this child class Inherite arributes and methods from Multiple class.\n",
    "3. Multilevel Inheritance : In this child class Inherite arributes and methods from a Derived Class.\n",
    "4. Hierachial Inheritance : In this Multiple child class Inherite attributes and methods from a single parent class.\n",
    "5. Hybrid Inheritance : child class inherite attributes and methods from multiple child class."
   ]
  },
  {
   "cell_type": "code",
   "execution_count": 24,
   "metadata": {},
   "outputs": [
    {
     "name": "stdout",
     "output_type": "stream",
     "text": [
      "Output of single inhertance : ('swaraj', 20)\n"
     ]
    },
    {
     "data": {
      "text/plain": [
       "\"This is example of Multilevel Inheritance : Output of single inhertance : ('swaraj', 20)\""
      ]
     },
     "execution_count": 24,
     "metadata": {},
     "output_type": "execute_result"
    }
   ],
   "source": [
    "#creating a first parent class\n",
    "class parent1:\n",
    "    def __init__(self):\n",
    "        self.name=\"swaraj\"\n",
    "        self.age=20\n",
    "    \n",
    "    def info(self):\n",
    "        return self.name, self.age\n",
    "    \n",
    "# Example of single Inheritance \n",
    "class child(parent1):\n",
    "    def __init__(self):\n",
    "        super().__init__()\n",
    "        \n",
    "    def parent_info(self):\n",
    "        return f\"Output of single inhertance : {super().info()}\"\n",
    "\n",
    "object1=child()\n",
    "print(object1.parent_info())\n",
    "\n",
    "#creating a second parent class\n",
    "class parent2:\n",
    "    def __init__(self):\n",
    "        self.occupation=\"Student\"\n",
    "    \n",
    "    def parent2_info(self):\n",
    "        return self.occupation\n",
    "\n",
    "#Example of Multiple inheriatance\n",
    "class child2(parent1,parent2):\n",
    "    def __init__(self):\n",
    "        parent1().__init__()\n",
    "        parent2().__init__()\n",
    "    \n",
    "    def child2_info(self):\n",
    "        return f\"This is a example of Multiple class : {parent1().info()} {parent2().parent2_info()}\"\n",
    "\n",
    "object2=child2()\n",
    "object2.child2_info()\n",
    "\n",
    "#Example of Multilevel inheritance \n",
    "class child3(child):\n",
    "    def __init__(self):\n",
    "        super().__init__()\n",
    "    \n",
    "    def child3_info(self):\n",
    "        return f\"This is example of Multilevel Inheritance : {super().parent_info()}\"\n",
    "    \n",
    "object3=child3()\n",
    "object3.child3_info()"
   ]
  },
  {
   "cell_type": "code",
   "execution_count": null,
   "metadata": {},
   "outputs": [],
   "source": []
  }
 ],
 "metadata": {
  "kernelspec": {
   "display_name": "Python 3",
   "language": "python",
   "name": "python3"
  },
  "language_info": {
   "codemirror_mode": {
    "name": "ipython",
    "version": 3
   },
   "file_extension": ".py",
   "mimetype": "text/x-python",
   "name": "python",
   "nbconvert_exporter": "python",
   "pygments_lexer": "ipython3",
   "version": "3.11.6"
  }
 },
 "nbformat": 4,
 "nbformat_minor": 2
}
